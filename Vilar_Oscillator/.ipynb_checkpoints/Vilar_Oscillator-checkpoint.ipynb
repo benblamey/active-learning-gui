{
 "cells": [
  {
   "cell_type": "markdown",
   "metadata": {},
   "source": [
    "# Vilar_Oscillator"
   ]
  },
  {
   "cell_type": "code",
   "execution_count": 1,
   "metadata": {},
   "outputs": [
    {
     "ename": "ModuleNotFoundError",
     "evalue": "No module named 'gillespy2'",
     "output_type": "error",
     "traceback": [
      "\u001b[0;31m---------------------------------------------------------------------------\u001b[0m",
      "\u001b[0;31mModuleNotFoundError\u001b[0m                       Traceback (most recent call last)",
      "\u001b[0;32m<ipython-input-1-e44674be4728>\u001b[0m in \u001b[0;36m<module>\u001b[0;34m\u001b[0m\n\u001b[1;32m      1\u001b[0m \u001b[0;32mimport\u001b[0m \u001b[0mnumpy\u001b[0m \u001b[0;32mas\u001b[0m \u001b[0mnp\u001b[0m\u001b[0;34m\u001b[0m\u001b[0;34m\u001b[0m\u001b[0m\n\u001b[0;32m----> 2\u001b[0;31m \u001b[0;32mimport\u001b[0m \u001b[0mgillespy2\u001b[0m\u001b[0;34m\u001b[0m\u001b[0;34m\u001b[0m\u001b[0m\n\u001b[0m\u001b[1;32m      3\u001b[0m \u001b[0;32mfrom\u001b[0m \u001b[0mgillespy2\u001b[0m\u001b[0;34m.\u001b[0m\u001b[0mcore\u001b[0m \u001b[0;32mimport\u001b[0m \u001b[0mModel\u001b[0m\u001b[0;34m,\u001b[0m \u001b[0mSpecies\u001b[0m\u001b[0;34m,\u001b[0m \u001b[0mReaction\u001b[0m\u001b[0;34m,\u001b[0m \u001b[0mParameter\u001b[0m\u001b[0;34m,\u001b[0m \u001b[0mRateRule\u001b[0m\u001b[0;34m\u001b[0m\u001b[0;34m\u001b[0m\u001b[0m\n",
      "\u001b[0;31mModuleNotFoundError\u001b[0m: No module named 'gillespy2'"
     ]
    }
   ],
   "source": [
    "import numpy as np\n",
    "import gillespy2\n",
    "from gillespy2.core import Model, Species, Reaction, Parameter, RateRule\n"
   ]
  },
  {
   "cell_type": "code",
   "execution_count": null,
   "metadata": {},
   "outputs": [],
   "source": [
    "class Vilar_Oscillator(Model):\n",
    "    def __init__(self, parameter_values=None):\n",
    "        Model.__init__(self, name=\"Vilar_Oscillator\")\n",
    "        self.volume = 1\n",
    "\n",
    "        # Parameters\n",
    "        self.add_parameter(Parameter(name=\"alpha_a\", expression=50))\n",
    "        self.add_parameter(Parameter(name=\"alpha_a_prime\", expression=500))\n",
    "        self.add_parameter(Parameter(name=\"alpha_r\", expression=0.01))\n",
    "        self.add_parameter(Parameter(name=\"alpha_r_prime\", expression=50))\n",
    "        self.add_parameter(Parameter(name=\"beta_a\", expression=50))\n",
    "        self.add_parameter(Parameter(name=\"beta_r\", expression=5))\n",
    "        self.add_parameter(Parameter(name=\"delta_ma\", expression=10))\n",
    "        self.add_parameter(Parameter(name=\"delta_mr\", expression=0.5))\n",
    "        self.add_parameter(Parameter(name=\"delta_a\", expression=1))\n",
    "        self.add_parameter(Parameter(name=\"delta_r\", expression=0.2))\n",
    "        self.add_parameter(Parameter(name=\"gamma_a\", expression=1))\n",
    "        self.add_parameter(Parameter(name=\"gamma_r\", expression=1))\n",
    "        self.add_parameter(Parameter(name=\"gamma_c\", expression=2))\n",
    "        self.add_parameter(Parameter(name=\"theta_a\", expression=50))\n",
    "        self.add_parameter(Parameter(name=\"theta_r\", expression=100))\n",
    "\n",
    "        # Species\n",
    "        self.add_species(Species(name=\"Da\", initial_value=1, mode=\"dynamic\"))\n",
    "        self.add_species(Species(name=\"Da_prime\", initial_value=0, mode=\"dynamic\"))\n",
    "        self.add_species(Species(name=\"Ma\", initial_value=0, mode=\"dynamic\"))\n",
    "        self.add_species(Species(name=\"Dr\", initial_value=1, mode=\"dynamic\"))\n",
    "        self.add_species(Species(name=\"Dr_prime\", initial_value=0, mode=\"dynamic\"))\n",
    "        self.add_species(Species(name=\"Mr\", initial_value=0, mode=\"dynamic\"))\n",
    "        self.add_species(Species(name=\"C\", initial_value=10, mode=\"dynamic\"))\n",
    "        self.add_species(Species(name=\"A\", initial_value=10, mode=\"dynamic\"))\n",
    "        self.add_species(Species(name=\"R\", initial_value=10, mode=\"dynamic\"))\n",
    "\n",
    "        # Reactions\n",
    "        self.add_reaction(Reaction(name=\"r1\", reactants={'Da_prime': 1}, products={'Da': 1}, rate=self.listOfParameters[\"theta_a\"]))\n",
    "        self.add_reaction(Reaction(name=\"r2\", reactants={'Da': 1, 'A': 1}, products={'Da_prime': 1}, rate=self.listOfParameters[\"gamma_a\"]))\n",
    "        self.add_reaction(Reaction(name=\"r3\", reactants={'Dr_prime': 1}, products={'Dr': 1}, rate=self.listOfParameters[\"theta_r\"]))\n",
    "        self.add_reaction(Reaction(name=\"r4\", reactants={'Dr': 1, 'A': 1}, products={'Dr_prime': 1}, rate=self.listOfParameters[\"gamma_r\"]))\n",
    "        self.add_reaction(Reaction(name=\"r5\", reactants={'Da_prime': 1}, products={'Da_prime': 1, 'Ma': 1}, rate=self.listOfParameters[\"alpha_a_prime\"]))\n",
    "        self.add_reaction(Reaction(name=\"r6\", reactants={'Da': 1}, products={'Da': 1, 'Ma': 1}, rate=self.listOfParameters[\"alpha_a\"]))\n",
    "        self.add_reaction(Reaction(name=\"r7\", reactants={'Ma': 1}, products={}, rate=self.listOfParameters[\"delta_ma\"]))\n",
    "        self.add_reaction(Reaction(name=\"r8\", reactants={'Ma': 1}, products={'A': 1, 'Ma': 1}, rate=self.listOfParameters[\"beta_a\"]))\n",
    "        self.add_reaction(Reaction(name=\"r9\", reactants={'Da_prime': 1}, products={'Da_prime': 1, 'A': 1}, rate=self.listOfParameters[\"theta_a\"]))\n",
    "        self.add_reaction(Reaction(name=\"r10\", reactants={'Dr_prime': 1}, products={'Dr_prime': 1, 'A': 1}, rate=self.listOfParameters[\"theta_a\"]))\n",
    "        self.add_reaction(Reaction(name=\"r11\", reactants={'A': 1}, products={}, rate=self.listOfParameters[\"gamma_c\"]))\n",
    "        self.add_reaction(Reaction(name=\"r12\", reactants={'A': 1, 'R': 1}, products={'C': 1}, rate=self.listOfParameters[\"gamma_c\"]))\n",
    "        self.add_reaction(Reaction(name=\"r13\", reactants={'Dr_prime': 1}, products={'Dr_prime': 1, 'Mr': 1}, rate=self.listOfParameters[\"alpha_r_prime\"]))\n",
    "        self.add_reaction(Reaction(name=\"r14\", reactants={'Dr': 1}, products={'Dr': 1, 'Mr': 1}, rate=self.listOfParameters[\"alpha_r\"]))\n",
    "        self.add_reaction(Reaction(name=\"r15\", reactants={'Mr': 1}, products={}, rate=self.listOfParameters[\"delta_mr\"]))\n",
    "        self.add_reaction(Reaction(name=\"r16\", reactants={'Mr': 1}, products={'Mr': 1, 'R': 1}, rate=self.listOfParameters[\"beta_r\"]))\n",
    "        self.add_reaction(Reaction(name=\"r17\", reactants={'R': 1}, products={}, rate=self.listOfParameters[\"delta_r\"]))\n",
    "        self.add_reaction(Reaction(name=\"r18\", reactants={'C': 1}, products={'R': 1}, rate=self.listOfParameters[\"delta_a\"]))\n",
    "\n",
    "        # Timespan\n",
    "        self.timespan(np.linspace(0, 200, 201))"
   ]
  },
  {
   "cell_type": "code",
   "execution_count": null,
   "metadata": {},
   "outputs": [],
   "source": [
    "model = Vilar_Oscillator()"
   ]
  },
  {
   "cell_type": "code",
   "execution_count": null,
   "metadata": {},
   "outputs": [],
   "source": [
    "results = model.run(seed=None)"
   ]
  },
  {
   "cell_type": "code",
   "execution_count": null,
   "metadata": {},
   "outputs": [],
   "source": [
    "results.plotplotly()"
   ]
  }
 ],
 "metadata": {
  "kernelspec": {
   "display_name": "Python 3",
   "language": "python",
   "name": "python3"
  },
  "language_info": {
   "codemirror_mode": {
    "name": "ipython",
    "version": 3
   },
   "file_extension": ".py",
   "mimetype": "text/x-python",
   "name": "python",
   "nbconvert_exporter": "python",
   "pygments_lexer": "ipython3",
   "version": "3.7.7"
  }
 },
 "nbformat": 4,
 "nbformat_minor": 2
}
