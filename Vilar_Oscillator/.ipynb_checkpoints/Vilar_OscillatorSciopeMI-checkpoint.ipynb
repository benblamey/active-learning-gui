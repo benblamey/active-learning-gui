{
 "cells": [
  {
   "cell_type": "markdown",
   "metadata": {},
   "source": [
    "# Vilar_Oscillator"
   ]
  },
  {
   "cell_type": "code",
   "execution_count": 1,
   "metadata": {},
   "outputs": [],
   "source": [
    "import numpy as np\n",
    "import gillespy2\n",
    "from gillespy2.core import Model, Species, Reaction, Parameter, RateRule, AssignmentRule, FunctionDefinition\n",
    "from gillespy2.core.events import EventAssignment, EventTrigger, Event\n"
   ]
  },
  {
   "cell_type": "code",
   "execution_count": 2,
   "metadata": {},
   "outputs": [],
   "source": [
    "class Vilar_Oscillator(Model):\n",
    "    def __init__(self, parameter_values=None):\n",
    "        Model.__init__(self, name=\"Vilar_Oscillator\")\n",
    "        self.volume = 1\n",
    "\n",
    "        # Parameters\n",
    "        self.add_parameter(Parameter(name=\"alpha_a\", expression=50))\n",
    "        self.add_parameter(Parameter(name=\"alpha_a_prime\", expression=500))\n",
    "        self.add_parameter(Parameter(name=\"alpha_r\", expression=0.01))\n",
    "        self.add_parameter(Parameter(name=\"alpha_r_prime\", expression=50))\n",
    "        self.add_parameter(Parameter(name=\"beta_a\", expression=50))\n",
    "        self.add_parameter(Parameter(name=\"beta_r\", expression=5))\n",
    "        self.add_parameter(Parameter(name=\"delta_ma\", expression=10))\n",
    "        self.add_parameter(Parameter(name=\"delta_mr\", expression=0.5))\n",
    "        self.add_parameter(Parameter(name=\"delta_a\", expression=1))\n",
    "        self.add_parameter(Parameter(name=\"delta_r\", expression=0.2))\n",
    "        self.add_parameter(Parameter(name=\"gamma_a\", expression=1))\n",
    "        self.add_parameter(Parameter(name=\"gamma_r\", expression=1))\n",
    "        self.add_parameter(Parameter(name=\"gamma_c\", expression=2))\n",
    "        self.add_parameter(Parameter(name=\"theta_a\", expression=50))\n",
    "        self.add_parameter(Parameter(name=\"theta_r\", expression=100))\n",
    "\n",
    "        # Species\n",
    "        self.add_species(Species(name=\"Da\", initial_value=1, mode=\"discrete\"))\n",
    "        self.add_species(Species(name=\"Da_prime\", initial_value=0, mode=\"discrete\"))\n",
    "        self.add_species(Species(name=\"Ma\", initial_value=0, mode=\"discrete\"))\n",
    "        self.add_species(Species(name=\"Dr\", initial_value=1, mode=\"discrete\"))\n",
    "        self.add_species(Species(name=\"Dr_prime\", initial_value=0, mode=\"discrete\"))\n",
    "        self.add_species(Species(name=\"Mr\", initial_value=0, mode=\"discrete\"))\n",
    "        self.add_species(Species(name=\"C\", initial_value=10, mode=\"discrete\"))\n",
    "        self.add_species(Species(name=\"A\", initial_value=10, mode=\"discrete\"))\n",
    "        self.add_species(Species(name=\"R\", initial_value=10, mode=\"discrete\"))\n",
    "\n",
    "        # Reactions\n",
    "        self.add_reaction(Reaction(name=\"r1\", reactants={'Da_prime': 1}, products={'Da': 1}, rate=self.listOfParameters[\"theta_a\"]))\n",
    "        self.add_reaction(Reaction(name=\"r2\", reactants={'Da': 1, 'A': 1}, products={'Da_prime': 1}, rate=self.listOfParameters[\"gamma_a\"]))\n",
    "        self.add_reaction(Reaction(name=\"r3\", reactants={'Dr_prime': 1}, products={'Dr': 1}, rate=self.listOfParameters[\"theta_r\"]))\n",
    "        self.add_reaction(Reaction(name=\"r4\", reactants={'Dr': 1, 'A': 1}, products={'Dr_prime': 1}, rate=self.listOfParameters[\"gamma_r\"]))\n",
    "        self.add_reaction(Reaction(name=\"r5\", reactants={'Da_prime': 1}, products={'Da_prime': 1, 'Ma': 1}, rate=self.listOfParameters[\"alpha_a_prime\"]))\n",
    "        self.add_reaction(Reaction(name=\"r6\", reactants={'Da': 1}, products={'Da': 1, 'Ma': 1}, rate=self.listOfParameters[\"alpha_a\"]))\n",
    "        self.add_reaction(Reaction(name=\"r7\", reactants={'Ma': 1}, products={}, rate=self.listOfParameters[\"delta_ma\"]))\n",
    "        self.add_reaction(Reaction(name=\"r8\", reactants={'Ma': 1}, products={'A': 1, 'Ma': 1}, rate=self.listOfParameters[\"beta_a\"]))\n",
    "        self.add_reaction(Reaction(name=\"r9\", reactants={'Da_prime': 1}, products={'Da_prime': 1, 'A': 1}, rate=self.listOfParameters[\"theta_a\"]))\n",
    "        self.add_reaction(Reaction(name=\"r10\", reactants={'Dr_prime': 1}, products={'Dr_prime': 1, 'A': 1}, rate=self.listOfParameters[\"theta_a\"]))\n",
    "        self.add_reaction(Reaction(name=\"r11\", reactants={'A': 1}, products={}, rate=self.listOfParameters[\"gamma_c\"]))\n",
    "        self.add_reaction(Reaction(name=\"r12\", reactants={'A': 1, 'R': 1}, products={'C': 1}, rate=self.listOfParameters[\"gamma_c\"]))\n",
    "        self.add_reaction(Reaction(name=\"r13\", reactants={'Dr_prime': 1}, products={'Dr_prime': 1, 'Mr': 1}, rate=self.listOfParameters[\"alpha_r_prime\"]))\n",
    "        self.add_reaction(Reaction(name=\"r14\", reactants={'Dr': 1}, products={'Dr': 1, 'Mr': 1}, rate=self.listOfParameters[\"alpha_r\"]))\n",
    "        self.add_reaction(Reaction(name=\"r15\", reactants={'Mr': 1}, products={}, rate=self.listOfParameters[\"delta_mr\"]))\n",
    "        self.add_reaction(Reaction(name=\"r16\", reactants={'Mr': 1}, products={'Mr': 1, 'R': 1}, rate=self.listOfParameters[\"beta_r\"]))\n",
    "        self.add_reaction(Reaction(name=\"r17\", reactants={'R': 1}, products={}, rate=self.listOfParameters[\"delta_r\"]))\n",
    "        self.add_reaction(Reaction(name=\"r18\", reactants={'C': 1}, products={'R': 1}, rate=self.listOfParameters[\"delta_a\"]))\n",
    "\n",
    "        # Timespan\n",
    "        self.timespan(np.linspace(0, 200, 201))"
   ]
  },
  {
   "cell_type": "code",
   "execution_count": 3,
   "metadata": {},
   "outputs": [],
   "source": [
    "model = Vilar_Oscillator()"
   ]
  },
  {
   "cell_type": "code",
   "execution_count": 17,
   "metadata": {},
   "outputs": [
    {
     "name": "stdout",
     "output_type": "stream",
     "text": [
      "1.1.0\n"
     ]
    }
   ],
   "source": [
    "#from dask.utils import ensure_dict, format_bytes\n",
    "import dask.utils\n",
    "print(dask.__version__)\n",
    "# fcn_list = [o[0] for o in getmembers(sys.modules[__name__], isfunction)]"
   ]
  },
  {
   "cell_type": "code",
   "execution_count": 13,
   "metadata": {},
   "outputs": [
    {
     "ename": "ImportError",
     "evalue": "Dask's distributed scheduler is not installed.\n\nPlease either conda or pip install dask distributed:\n\n  conda install dask distributed          # either conda install\n  python -m pip install \"dask[distributed]\" --upgrade  # or python -m pip install",
     "output_type": "error",
     "traceback": [
      "\u001b[0;31m---------------------------------------------------------------------------\u001b[0m",
      "\u001b[0;31mImportError\u001b[0m                               Traceback (most recent call last)",
      "\u001b[0;32m/usr/local/lib/python3.7/site-packages/dask/distributed.py\u001b[0m in \u001b[0;36m<module>\u001b[0;34m\u001b[0m\n\u001b[1;32m      2\u001b[0m \u001b[0;32mtry\u001b[0m\u001b[0;34m:\u001b[0m\u001b[0;34m\u001b[0m\u001b[0;34m\u001b[0m\u001b[0m\n\u001b[0;32m----> 3\u001b[0;31m     \u001b[0;32mfrom\u001b[0m \u001b[0mdistributed\u001b[0m \u001b[0;32mimport\u001b[0m \u001b[0;34m*\u001b[0m\u001b[0;34m\u001b[0m\u001b[0;34m\u001b[0m\u001b[0m\n\u001b[0m\u001b[1;32m      4\u001b[0m \u001b[0;32mexcept\u001b[0m \u001b[0mImportError\u001b[0m\u001b[0;34m:\u001b[0m\u001b[0;34m\u001b[0m\u001b[0;34m\u001b[0m\u001b[0m\n",
      "\u001b[0;32m/usr/local/lib/python3.7/site-packages/distributed/__init__.py\u001b[0m in \u001b[0;36m<module>\u001b[0;34m\u001b[0m\n\u001b[1;32m      2\u001b[0m \u001b[0;32mfrom\u001b[0m \u001b[0mdask\u001b[0m\u001b[0;34m.\u001b[0m\u001b[0mconfig\u001b[0m \u001b[0;32mimport\u001b[0m \u001b[0mconfig\u001b[0m\u001b[0;34m\u001b[0m\u001b[0;34m\u001b[0m\u001b[0m\n\u001b[0;32m----> 3\u001b[0;31m \u001b[0;32mfrom\u001b[0m \u001b[0;34m.\u001b[0m\u001b[0mactor\u001b[0m \u001b[0;32mimport\u001b[0m \u001b[0mActor\u001b[0m\u001b[0;34m,\u001b[0m \u001b[0mActorFuture\u001b[0m\u001b[0;34m\u001b[0m\u001b[0;34m\u001b[0m\u001b[0m\n\u001b[0m\u001b[1;32m      4\u001b[0m \u001b[0;32mfrom\u001b[0m \u001b[0;34m.\u001b[0m\u001b[0mcore\u001b[0m \u001b[0;32mimport\u001b[0m \u001b[0mconnect\u001b[0m\u001b[0;34m,\u001b[0m \u001b[0mrpc\u001b[0m\u001b[0;34m\u001b[0m\u001b[0;34m\u001b[0m\u001b[0m\n",
      "\u001b[0;32m/usr/local/lib/python3.7/site-packages/distributed/actor.py\u001b[0m in \u001b[0;36m<module>\u001b[0;34m\u001b[0m\n\u001b[1;32m      5\u001b[0m \u001b[0;34m\u001b[0m\u001b[0m\n\u001b[0;32m----> 6\u001b[0;31m \u001b[0;32mfrom\u001b[0m \u001b[0;34m.\u001b[0m\u001b[0mclient\u001b[0m \u001b[0;32mimport\u001b[0m \u001b[0mFuture\u001b[0m\u001b[0;34m,\u001b[0m \u001b[0mdefault_client\u001b[0m\u001b[0;34m\u001b[0m\u001b[0;34m\u001b[0m\u001b[0m\n\u001b[0m\u001b[1;32m      7\u001b[0m \u001b[0;32mfrom\u001b[0m \u001b[0;34m.\u001b[0m\u001b[0mprotocol\u001b[0m \u001b[0;32mimport\u001b[0m \u001b[0mto_serialize\u001b[0m\u001b[0;34m\u001b[0m\u001b[0;34m\u001b[0m\u001b[0m\n",
      "\u001b[0;32m/usr/local/lib/python3.7/site-packages/distributed/client.py\u001b[0m in \u001b[0;36m<module>\u001b[0;34m\u001b[0m\n\u001b[1;32m     31\u001b[0m \u001b[0;32mfrom\u001b[0m \u001b[0mdask\u001b[0m\u001b[0;34m.\u001b[0m\u001b[0mcompatibility\u001b[0m \u001b[0;32mimport\u001b[0m \u001b[0mapply\u001b[0m\u001b[0;34m\u001b[0m\u001b[0;34m\u001b[0m\u001b[0m\n\u001b[0;32m---> 32\u001b[0;31m \u001b[0;32mfrom\u001b[0m \u001b[0mdask\u001b[0m\u001b[0;34m.\u001b[0m\u001b[0mutils\u001b[0m \u001b[0;32mimport\u001b[0m \u001b[0mensure_dict\u001b[0m\u001b[0;34m,\u001b[0m \u001b[0mformat_bytes\u001b[0m\u001b[0;34m,\u001b[0m \u001b[0mfuncname\u001b[0m\u001b[0;34m\u001b[0m\u001b[0;34m\u001b[0m\u001b[0m\n\u001b[0m\u001b[1;32m     33\u001b[0m \u001b[0;34m\u001b[0m\u001b[0m\n",
      "\u001b[0;31mImportError\u001b[0m: cannot import name 'format_bytes' from 'dask.utils' (/usr/local/lib/python3.7/site-packages/dask/utils.py)",
      "\nDuring handling of the above exception, another exception occurred:\n",
      "\u001b[0;31mImportError\u001b[0m                               Traceback (most recent call last)",
      "\u001b[0;32m<ipython-input-13-9dbe3136b840>\u001b[0m in \u001b[0;36m<module>\u001b[0;34m\u001b[0m\n\u001b[1;32m      3\u001b[0m \u001b[0;32mfrom\u001b[0m \u001b[0msciope\u001b[0m\u001b[0;34m.\u001b[0m\u001b[0mutilities\u001b[0m\u001b[0;34m.\u001b[0m\u001b[0msummarystats\u001b[0m \u001b[0;32mimport\u001b[0m \u001b[0mauto_tsfresh\u001b[0m\u001b[0;34m\u001b[0m\u001b[0;34m\u001b[0m\u001b[0m\n\u001b[1;32m      4\u001b[0m \u001b[0;32mfrom\u001b[0m \u001b[0msciope\u001b[0m\u001b[0;34m.\u001b[0m\u001b[0mutilities\u001b[0m\u001b[0;34m.\u001b[0m\u001b[0mdistancefunctions\u001b[0m \u001b[0;32mimport\u001b[0m \u001b[0mnaive_squared\u001b[0m\u001b[0;34m\u001b[0m\u001b[0;34m\u001b[0m\u001b[0m\n\u001b[0;32m----> 5\u001b[0;31m \u001b[0;32mfrom\u001b[0m \u001b[0msciope\u001b[0m\u001b[0;34m.\u001b[0m\u001b[0minference\u001b[0m\u001b[0;34m.\u001b[0m\u001b[0mabc_inference\u001b[0m \u001b[0;32mimport\u001b[0m \u001b[0mABC\u001b[0m\u001b[0;34m\u001b[0m\u001b[0;34m\u001b[0m\u001b[0m\n\u001b[0m\u001b[1;32m      6\u001b[0m \u001b[0;32mfrom\u001b[0m \u001b[0msklearn\u001b[0m\u001b[0;34m.\u001b[0m\u001b[0mmetrics\u001b[0m \u001b[0;32mimport\u001b[0m \u001b[0mmean_absolute_error\u001b[0m\u001b[0;34m\u001b[0m\u001b[0;34m\u001b[0m\u001b[0m\n\u001b[1;32m      7\u001b[0m \u001b[0;31m#from dask.distributed import Client\u001b[0m\u001b[0;34m\u001b[0m\u001b[0;34m\u001b[0m\u001b[0;34m\u001b[0m\u001b[0m\n",
      "\u001b[0;32m~/projects/haste/sciope/sciope/inference/abc_inference.py\u001b[0m in \u001b[0;36m<module>\u001b[0;34m\u001b[0m\n\u001b[1;32m     20\u001b[0m \u001b[0;32mfrom\u001b[0m \u001b[0msciope\u001b[0m\u001b[0;34m.\u001b[0m\u001b[0mutilities\u001b[0m\u001b[0;34m.\u001b[0m\u001b[0mdistancefunctions\u001b[0m \u001b[0;32mimport\u001b[0m \u001b[0meuclidean\u001b[0m \u001b[0;32mas\u001b[0m \u001b[0meuc\u001b[0m\u001b[0;34m\u001b[0m\u001b[0;34m\u001b[0m\u001b[0m\n\u001b[1;32m     21\u001b[0m \u001b[0;32mfrom\u001b[0m \u001b[0msciope\u001b[0m\u001b[0;34m.\u001b[0m\u001b[0mutilities\u001b[0m\u001b[0;34m.\u001b[0m\u001b[0msummarystats\u001b[0m \u001b[0;32mimport\u001b[0m \u001b[0mburstiness\u001b[0m \u001b[0;32mas\u001b[0m \u001b[0mbs\u001b[0m\u001b[0;34m\u001b[0m\u001b[0;34m\u001b[0m\u001b[0m\n\u001b[0;32m---> 22\u001b[0;31m \u001b[0;32mfrom\u001b[0m \u001b[0msciope\u001b[0m\u001b[0;34m.\u001b[0m\u001b[0mcore\u001b[0m \u001b[0;32mimport\u001b[0m \u001b[0mcore\u001b[0m\u001b[0;34m\u001b[0m\u001b[0;34m\u001b[0m\u001b[0m\n\u001b[0m\u001b[1;32m     23\u001b[0m \u001b[0;32mfrom\u001b[0m \u001b[0msciope\u001b[0m\u001b[0;34m.\u001b[0m\u001b[0mutilities\u001b[0m\u001b[0;34m.\u001b[0m\u001b[0mhousekeeping\u001b[0m \u001b[0;32mimport\u001b[0m \u001b[0msciope_logger\u001b[0m \u001b[0;32mas\u001b[0m \u001b[0mml\u001b[0m\u001b[0;34m\u001b[0m\u001b[0;34m\u001b[0m\u001b[0m\n\u001b[1;32m     24\u001b[0m \u001b[0;32mfrom\u001b[0m \u001b[0mtoolz\u001b[0m \u001b[0;32mimport\u001b[0m \u001b[0mpartition_all\u001b[0m\u001b[0;34m\u001b[0m\u001b[0;34m\u001b[0m\u001b[0m\n",
      "\u001b[0;32m~/projects/haste/sciope/sciope/core/core.py\u001b[0m in \u001b[0;36m<module>\u001b[0;34m\u001b[0m\n\u001b[0;32m----> 1\u001b[0;31m \u001b[0;32mfrom\u001b[0m \u001b[0mdask\u001b[0m\u001b[0;34m.\u001b[0m\u001b[0mdistributed\u001b[0m \u001b[0;32mimport\u001b[0m \u001b[0mget_client\u001b[0m\u001b[0;34m,\u001b[0m \u001b[0mfutures_of\u001b[0m\u001b[0;34m\u001b[0m\u001b[0;34m\u001b[0m\u001b[0m\n\u001b[0m\u001b[1;32m      2\u001b[0m \u001b[0;32mfrom\u001b[0m \u001b[0mdask\u001b[0m \u001b[0;32mimport\u001b[0m \u001b[0mdelayed\u001b[0m\u001b[0;34m\u001b[0m\u001b[0;34m\u001b[0m\u001b[0m\n\u001b[1;32m      3\u001b[0m \u001b[0;32mfrom\u001b[0m \u001b[0mtoolz\u001b[0m \u001b[0;32mimport\u001b[0m \u001b[0mpartition_all\u001b[0m\u001b[0;34m\u001b[0m\u001b[0;34m\u001b[0m\u001b[0m\n\u001b[1;32m      4\u001b[0m \u001b[0;32mimport\u001b[0m \u001b[0mnumpy\u001b[0m \u001b[0;32mas\u001b[0m \u001b[0mnp\u001b[0m\u001b[0;34m\u001b[0m\u001b[0;34m\u001b[0m\u001b[0m\n\u001b[1;32m      5\u001b[0m \u001b[0;34m\u001b[0m\u001b[0m\n",
      "\u001b[0;32m/usr/local/lib/python3.7/site-packages/dask/distributed.py\u001b[0m in \u001b[0;36m<module>\u001b[0;34m\u001b[0m\n\u001b[1;32m      9\u001b[0m         \u001b[0;34m'  python -m pip install \"dask[distributed]\" --upgrade  # or python -m pip install'\u001b[0m\u001b[0;34m\u001b[0m\u001b[0;34m\u001b[0m\u001b[0m\n\u001b[1;32m     10\u001b[0m     )\n\u001b[0;32m---> 11\u001b[0;31m     \u001b[0;32mraise\u001b[0m \u001b[0mImportError\u001b[0m\u001b[0;34m(\u001b[0m\u001b[0mmsg\u001b[0m\u001b[0;34m)\u001b[0m\u001b[0;34m\u001b[0m\u001b[0;34m\u001b[0m\u001b[0m\n\u001b[0m",
      "\u001b[0;31mImportError\u001b[0m: Dask's distributed scheduler is not installed.\n\nPlease either conda or pip install dask distributed:\n\n  conda install dask distributed          # either conda install\n  python -m pip install \"dask[distributed]\" --upgrade  # or python -m pip install"
     ]
    }
   ],
   "source": [
    "from tsfresh.feature_extraction.settings import MinimalFCParameters\n",
    "from sciope.utilities.priors import uniform_prior\n",
    "from sciope.utilities.summarystats import auto_tsfresh\n",
    "from sciope.utilities.distancefunctions import naive_squared\n",
    "from sciope.inference.abc_inference import ABC\n",
    "from sklearn.metrics import mean_absolute_error\n",
    "#from dask.distributed import Client"
   ]
  },
  {
   "cell_type": "code",
   "execution_count": 8,
   "metadata": {},
   "outputs": [],
   "source": [
    "# Define simulator function\n",
    "def set_model_parameters(params, model):\n",
    "    \"\"\"para,s - array, need to have the same order as\n",
    "    model.listOfParameters \"\"\"\n",
    "    for e, (pname, p) in enumerate(model.listOfParameters.items()):\n",
    "        model.get_parameter(pname).set_expression(params[e])\n",
    "    return model\n",
    "\n",
    "# Here we use the GillesPy2 Solver\n",
    "def simulator(params, model):\n",
    "    model_update = set_model_parameters(params, model)\n",
    "    num_trajectories = 1\n",
    "\n",
    "    res = model_update.run(show_labels=False, number_of_trajectories=1, seed=None)\n",
    "    tot_res = np.asarray([x.T for x in res]) # reshape to (N, S, T)\n",
    "    tot_res = tot_res[:,1:, :] # should not contain timepoints\n",
    "\n",
    "    return tot_res\n",
    "\n",
    "# Wrapper, simulator function to abc should should only take one argument (the parameter point)\n",
    "def simulator2(x):\n",
    "    return simulator(x, model=model)"
   ]
  },
  {
   "cell_type": "code",
   "execution_count": 9,
   "metadata": {},
   "outputs": [],
   "source": [
    "# Set up the prior\n",
    "default_param = np.array(list(model.listOfParameters.items()))[:,1] # take default from mode 1 as reference\n",
    "\n",
    "bound = []\n",
    "for exp in default_param:\n",
    "    bound.append(float(exp.expression))\n",
    "\n",
    "# Set the bounds\n",
    "bound = np.array(bound)\n",
    "dmin = bound * 0.1\n",
    "dmax = bound * 2.0\n",
    "\n",
    "# Here we use uniform prior\n",
    "uni_prior = uniform_prior.UniformPrior(dmin, dmax)"
   ]
  },
  {
   "cell_type": "code",
   "execution_count": 10,
   "metadata": {},
   "outputs": [],
   "source": [
    "# generate some fixed(observed) data based on default parameters of the model\n",
    "# the minimum number of trajectoies needs to be at least 30\n",
    "fixed_data = model.run(show_labels=False, number_of_trajectories=100, seed=None)"
   ]
  },
  {
   "cell_type": "code",
   "execution_count": 11,
   "metadata": {},
   "outputs": [],
   "source": [
    "# Reshape the dat to (n_points,n_species,n_timepoints) and remove timepoints array\n",
    "fixed_data = np.asarray([x.T for x in fixed_data])\n",
    "fixed_data = fixed_data[:,1:, :]"
   ]
  },
  {
   "cell_type": "code",
   "execution_count": 12,
   "metadata": {},
   "outputs": [
    {
     "ename": "NameError",
     "evalue": "name 'ABC' is not defined",
     "output_type": "error",
     "traceback": [
      "\u001b[0;31m---------------------------------------------------------------------------\u001b[0m",
      "\u001b[0;31mNameError\u001b[0m                                 Traceback (most recent call last)",
      "\u001b[0;32m<ipython-input-12-6f424e633c82>\u001b[0m in \u001b[0;36m<module>\u001b[0;34m\u001b[0m\n\u001b[1;32m      6\u001b[0m \u001b[0;34m\u001b[0m\u001b[0m\n\u001b[1;32m      7\u001b[0m \u001b[0;31m# Start abc instance\u001b[0m\u001b[0;34m\u001b[0m\u001b[0;34m\u001b[0m\u001b[0;34m\u001b[0m\u001b[0m\n\u001b[0;32m----> 8\u001b[0;31m \u001b[0mabc\u001b[0m \u001b[0;34m=\u001b[0m \u001b[0mABC\u001b[0m\u001b[0;34m(\u001b[0m\u001b[0mfixed_data\u001b[0m\u001b[0;34m,\u001b[0m \u001b[0msim\u001b[0m\u001b[0;34m=\u001b[0m\u001b[0msimulator2\u001b[0m\u001b[0;34m,\u001b[0m \u001b[0mprior_function\u001b[0m\u001b[0;34m=\u001b[0m\u001b[0muni_prior\u001b[0m\u001b[0;34m,\u001b[0m \u001b[0msummaries_function\u001b[0m\u001b[0;34m=\u001b[0m\u001b[0msumm_func\u001b[0m\u001b[0;34m.\u001b[0m\u001b[0mcompute\u001b[0m\u001b[0;34m,\u001b[0m \u001b[0mdistance_function\u001b[0m\u001b[0;34m=\u001b[0m\u001b[0mns\u001b[0m\u001b[0;34m)\u001b[0m\u001b[0;34m\u001b[0m\u001b[0;34m\u001b[0m\u001b[0m\n\u001b[0m",
      "\u001b[0;31mNameError\u001b[0m: name 'ABC' is not defined"
     ]
    }
   ],
   "source": [
    "# Function to generate summary statistics\n",
    "summ_func = auto_tsfresh.SummariesTSFRESH()\n",
    "\n",
    "# Distance\n",
    "ns = naive_squared.NaiveSquaredDistance()\n",
    "\n",
    "# Start abc instance\n",
    "abc = ABC(fixed_data, sim=simulator2, prior_function=uni_prior, summaries_function=summ_func.compute, distance_function=ns)"
   ]
  },
  {
   "cell_type": "code",
   "execution_count": null,
   "metadata": {},
   "outputs": [],
   "source": [
    "c = Client()\n",
    "c"
   ]
  },
  {
   "cell_type": "code",
   "execution_count": null,
   "metadata": {},
   "outputs": [],
   "source": [
    "# First compute the fixed(observed) mean\n",
    "abc.compute_fixed_mean(chunk_size=2)"
   ]
  },
  {
   "cell_type": "code",
   "execution_count": null,
   "metadata": {},
   "outputs": [],
   "source": [
    "# Run in multiprocessing mode\n",
    "res = abc.infer(num_samples=100, batch_size=10, chunk_size=2)"
   ]
  },
  {
   "cell_type": "code",
   "execution_count": null,
   "metadata": {},
   "outputs": [],
   "source": [
    "mae_inference = mean_absolute_error(bound, abc.results[\"inferred_parameters\"])"
   ]
  },
  {
   "cell_type": "code",
   "execution_count": null,
   "metadata": {},
   "outputs": [],
   "source": []
  }
 ],
 "metadata": {
  "kernelspec": {
   "display_name": "Python 3",
   "language": "python",
   "name": "python3"
  },
  "language_info": {
   "codemirror_mode": {
    "name": "ipython",
    "version": 3
   },
   "file_extension": ".py",
   "mimetype": "text/x-python",
   "name": "python",
   "nbconvert_exporter": "python",
   "pygments_lexer": "ipython3",
   "version": "3.7.7"
  }
 },
 "nbformat": 4,
 "nbformat_minor": 4
}
