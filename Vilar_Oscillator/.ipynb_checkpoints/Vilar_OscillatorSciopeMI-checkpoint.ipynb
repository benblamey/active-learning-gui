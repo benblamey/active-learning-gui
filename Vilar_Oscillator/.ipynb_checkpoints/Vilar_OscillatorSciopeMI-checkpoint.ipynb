{
 "cells": [
  {
   "cell_type": "markdown",
   "metadata": {},
   "source": [
    "# Vilar_Oscillator"
   ]
  },
  {
   "cell_type": "code",
   "execution_count": 1,
   "metadata": {},
   "outputs": [],
   "source": [
    "import numpy as np\n",
    "import gillespy2\n",
    "from gillespy2.core import Model, Species, Reaction, Parameter, RateRule, AssignmentRule, FunctionDefinition\n",
    "from gillespy2.core.events import EventAssignment, EventTrigger, Event\n"
   ]
  },
  {
   "cell_type": "code",
   "execution_count": 2,
   "metadata": {},
   "outputs": [],
   "source": [
    "class Vilar_Oscillator(Model):\n",
    "    def __init__(self, parameter_values=None):\n",
    "        Model.__init__(self, name=\"Vilar_Oscillator\")\n",
    "        self.volume = 1\n",
    "\n",
    "        # Parameters\n",
    "        self.add_parameter(Parameter(name=\"alpha_a\", expression=50))\n",
    "        self.add_parameter(Parameter(name=\"alpha_a_prime\", expression=500))\n",
    "        self.add_parameter(Parameter(name=\"alpha_r\", expression=0.01))\n",
    "        self.add_parameter(Parameter(name=\"alpha_r_prime\", expression=50))\n",
    "        self.add_parameter(Parameter(name=\"beta_a\", expression=50))\n",
    "        self.add_parameter(Parameter(name=\"beta_r\", expression=5))\n",
    "        self.add_parameter(Parameter(name=\"delta_ma\", expression=10))\n",
    "        self.add_parameter(Parameter(name=\"delta_mr\", expression=0.5))\n",
    "        self.add_parameter(Parameter(name=\"delta_a\", expression=1))\n",
    "        self.add_parameter(Parameter(name=\"delta_r\", expression=0.2))\n",
    "        self.add_parameter(Parameter(name=\"gamma_a\", expression=1))\n",
    "        self.add_parameter(Parameter(name=\"gamma_r\", expression=1))\n",
    "        self.add_parameter(Parameter(name=\"gamma_c\", expression=2))\n",
    "        self.add_parameter(Parameter(name=\"theta_a\", expression=50))\n",
    "        self.add_parameter(Parameter(name=\"theta_r\", expression=100))\n",
    "\n",
    "        # Species\n",
    "        self.add_species(Species(name=\"Da\", initial_value=1, mode=\"discrete\"))\n",
    "        self.add_species(Species(name=\"Da_prime\", initial_value=0, mode=\"discrete\"))\n",
    "        self.add_species(Species(name=\"Ma\", initial_value=0, mode=\"discrete\"))\n",
    "        self.add_species(Species(name=\"Dr\", initial_value=1, mode=\"discrete\"))\n",
    "        self.add_species(Species(name=\"Dr_prime\", initial_value=0, mode=\"discrete\"))\n",
    "        self.add_species(Species(name=\"Mr\", initial_value=0, mode=\"discrete\"))\n",
    "        self.add_species(Species(name=\"C\", initial_value=10, mode=\"discrete\"))\n",
    "        self.add_species(Species(name=\"A\", initial_value=10, mode=\"discrete\"))\n",
    "        self.add_species(Species(name=\"R\", initial_value=10, mode=\"discrete\"))\n",
    "\n",
    "        # Reactions\n",
    "        self.add_reaction(Reaction(name=\"r1\", reactants={'Da_prime': 1}, products={'Da': 1}, rate=self.listOfParameters[\"theta_a\"]))\n",
    "        self.add_reaction(Reaction(name=\"r2\", reactants={'Da': 1, 'A': 1}, products={'Da_prime': 1}, rate=self.listOfParameters[\"gamma_a\"]))\n",
    "        self.add_reaction(Reaction(name=\"r3\", reactants={'Dr_prime': 1}, products={'Dr': 1}, rate=self.listOfParameters[\"theta_r\"]))\n",
    "        self.add_reaction(Reaction(name=\"r4\", reactants={'Dr': 1, 'A': 1}, products={'Dr_prime': 1}, rate=self.listOfParameters[\"gamma_r\"]))\n",
    "        self.add_reaction(Reaction(name=\"r5\", reactants={'Da_prime': 1}, products={'Da_prime': 1, 'Ma': 1}, rate=self.listOfParameters[\"alpha_a_prime\"]))\n",
    "        self.add_reaction(Reaction(name=\"r6\", reactants={'Da': 1}, products={'Da': 1, 'Ma': 1}, rate=self.listOfParameters[\"alpha_a\"]))\n",
    "        self.add_reaction(Reaction(name=\"r7\", reactants={'Ma': 1}, products={}, rate=self.listOfParameters[\"delta_ma\"]))\n",
    "        self.add_reaction(Reaction(name=\"r8\", reactants={'Ma': 1}, products={'A': 1, 'Ma': 1}, rate=self.listOfParameters[\"beta_a\"]))\n",
    "        self.add_reaction(Reaction(name=\"r9\", reactants={'Da_prime': 1}, products={'Da_prime': 1, 'A': 1}, rate=self.listOfParameters[\"theta_a\"]))\n",
    "        self.add_reaction(Reaction(name=\"r10\", reactants={'Dr_prime': 1}, products={'Dr_prime': 1, 'A': 1}, rate=self.listOfParameters[\"theta_a\"]))\n",
    "        self.add_reaction(Reaction(name=\"r11\", reactants={'A': 1}, products={}, rate=self.listOfParameters[\"gamma_c\"]))\n",
    "        self.add_reaction(Reaction(name=\"r12\", reactants={'A': 1, 'R': 1}, products={'C': 1}, rate=self.listOfParameters[\"gamma_c\"]))\n",
    "        self.add_reaction(Reaction(name=\"r13\", reactants={'Dr_prime': 1}, products={'Dr_prime': 1, 'Mr': 1}, rate=self.listOfParameters[\"alpha_r_prime\"]))\n",
    "        self.add_reaction(Reaction(name=\"r14\", reactants={'Dr': 1}, products={'Dr': 1, 'Mr': 1}, rate=self.listOfParameters[\"alpha_r\"]))\n",
    "        self.add_reaction(Reaction(name=\"r15\", reactants={'Mr': 1}, products={}, rate=self.listOfParameters[\"delta_mr\"]))\n",
    "        self.add_reaction(Reaction(name=\"r16\", reactants={'Mr': 1}, products={'Mr': 1, 'R': 1}, rate=self.listOfParameters[\"beta_r\"]))\n",
    "        self.add_reaction(Reaction(name=\"r17\", reactants={'R': 1}, products={}, rate=self.listOfParameters[\"delta_r\"]))\n",
    "        self.add_reaction(Reaction(name=\"r18\", reactants={'C': 1}, products={'R': 1}, rate=self.listOfParameters[\"delta_a\"]))\n",
    "\n",
    "        # Timespan\n",
    "        self.timespan(np.linspace(0, 200, 201))"
   ]
  },
  {
   "cell_type": "code",
   "execution_count": 3,
   "metadata": {},
   "outputs": [],
   "source": [
    "model = Vilar_Oscillator()"
   ]
  },
  {
   "cell_type": "code",
   "execution_count": 4,
   "metadata": {},
   "outputs": [
    {
     "name": "stdout",
     "output_type": "stream",
     "text": [
      "2.17.2\n"
     ]
    }
   ],
   "source": [
    "#from dask.utils import ensure_dict, format_bytes\n",
    "import dask.utils\n",
    "print(dask.__version__)\n",
    "# fcn_list = [o[0] for o in getmembers(sys.modules[__name__], isfunction)]"
   ]
  },
  {
   "cell_type": "code",
   "execution_count": 5,
   "metadata": {},
   "outputs": [],
   "source": [
    "from tsfresh.feature_extraction.settings import MinimalFCParameters\n",
    "from sciope.utilities.priors import uniform_prior\n",
    "from sciope.utilities.summarystats import auto_tsfresh\n",
    "from sciope.utilities.distancefunctions import naive_squared\n",
    "from sciope.inference.abc_inference import ABC\n",
    "from sklearn.metrics import mean_absolute_error\n",
    "#from dask.distributed import Client"
   ]
  },
  {
   "cell_type": "code",
   "execution_count": 6,
   "metadata": {},
   "outputs": [],
   "source": [
    "# Define simulator function\n",
    "def set_model_parameters(params, model):\n",
    "    \"\"\"para,s - array, need to have the same order as\n",
    "    model.listOfParameters \"\"\"\n",
    "    for e, (pname, p) in enumerate(model.listOfParameters.items()):\n",
    "        model.get_parameter(pname).set_expression(params[e])\n",
    "    return model\n",
    "\n",
    "# Here we use the GillesPy2 Solver\n",
    "def simulator(params, model):\n",
    "    model_update = set_model_parameters(params, model)\n",
    "    num_trajectories = 1\n",
    "\n",
    "    res = model_update.run(show_labels=False, number_of_trajectories=1, seed=None)\n",
    "    tot_res = np.asarray([x.T for x in res]) # reshape to (N, S, T)\n",
    "    tot_res = tot_res[:,1:, :] # should not contain timepoints\n",
    "\n",
    "    return tot_res\n",
    "\n",
    "# Wrapper, simulator function to abc should should only take one argument (the parameter point)\n",
    "def simulator2(x):\n",
    "    return simulator(x, model=model)"
   ]
  },
  {
   "cell_type": "code",
   "execution_count": 7,
   "metadata": {},
   "outputs": [],
   "source": [
    "# Set up the prior\n",
    "default_param = np.array(list(model.listOfParameters.items()))[:,1] # take default from mode 1 as reference\n",
    "\n",
    "bound = []\n",
    "for exp in default_param:\n",
    "    bound.append(float(exp.expression))\n",
    "\n",
    "# Set the bounds\n",
    "bound = np.array(bound)\n",
    "dmin = bound * 0.1\n",
    "dmax = bound * 2.0\n",
    "\n",
    "# Here we use uniform prior\n",
    "uni_prior = uniform_prior.UniformPrior(dmin, dmax)"
   ]
  },
  {
   "cell_type": "code",
   "execution_count": 8,
   "metadata": {},
   "outputs": [],
   "source": [
    "# generate some fixed(observed) data based on default parameters of the model\n",
    "# the minimum number of trajectoies needs to be at least 30\n",
    "fixed_data = model.run(show_labels=False, number_of_trajectories=100, seed=None)"
   ]
  },
  {
   "cell_type": "code",
   "execution_count": 9,
   "metadata": {},
   "outputs": [],
   "source": [
    "# Reshape the dat to (n_points,n_species,n_timepoints) and remove timepoints array\n",
    "fixed_data = np.asarray([x.T for x in fixed_data])\n",
    "fixed_data = fixed_data[:,1:, :]"
   ]
  },
  {
   "cell_type": "code",
   "execution_count": 10,
   "metadata": {},
   "outputs": [],
   "source": [
    "# Function to generate summary statistics\n",
    "summ_func = auto_tsfresh.SummariesTSFRESH()\n",
    "\n",
    "# Distance\n",
    "ns = naive_squared.NaiveSquaredDistance()\n",
    "\n",
    "# Start abc instance\n",
    "abc = ABC(fixed_data, sim=simulator2, prior_function=uni_prior, summaries_function=summ_func.compute, distance_function=ns)"
   ]
  },
  {
   "cell_type": "code",
   "execution_count": 11,
   "metadata": {},
   "outputs": [],
   "source": [
    "# c = Client()\n",
    "# c"
   ]
  },
  {
   "cell_type": "code",
   "execution_count": 12,
   "metadata": {},
   "outputs": [],
   "source": [
    "# First compute the fixed(observed) mean\n",
    "# abc.compute_fixed_mean(chunk_size=2)"
   ]
  },
  {
   "cell_type": "code",
   "execution_count": 13,
   "metadata": {},
   "outputs": [],
   "source": [
    "# Run in multiprocessing mode\n",
    "# res = abc.infer(num_samples=10, batch_size=10, chunk_size=2)"
   ]
  },
  {
   "cell_type": "code",
   "execution_count": 14,
   "metadata": {},
   "outputs": [],
   "source": [
    "# mae_inference = mean_absolute_error(bound, abc.results[\"inferred_parameters\"])"
   ]
  },
  {
   "cell_type": "code",
   "execution_count": 15,
   "metadata": {},
   "outputs": [
    {
     "data": {
      "text/plain": [
       "(100, 9, 201)"
      ]
     },
     "execution_count": 15,
     "metadata": {},
     "output_type": "execute_result"
    }
   ],
   "source": [
    "fixed_data[0]\n",
    "fixed_data.shape \n",
    "# (100, 9, 201)\n",
    "# > 100 trajectories, 9 species, 201 time points"
   ]
  },
  {
   "cell_type": "code",
   "execution_count": 16,
   "metadata": {},
   "outputs": [],
   "source": [
    "labels = np.zeros(fixed_data.shape[0])-1"
   ]
  },
  {
   "cell_type": "code",
   "execution_count": 17,
   "metadata": {},
   "outputs": [
    {
     "data": {
      "text/plain": [
       "array([-1., -1., -1., -1., -1., -1., -1., -1., -1., -1., -1., -1., -1.,\n",
       "       -1., -1., -1., -1., -1., -1., -1., -1., -1., -1., -1., -1., -1.,\n",
       "       -1., -1., -1., -1., -1., -1., -1., -1., -1., -1., -1., -1., -1.,\n",
       "       -1., -1., -1., -1., -1., -1., -1., -1., -1., -1., -1., -1., -1.,\n",
       "       -1., -1., -1., -1., -1., -1., -1., -1., -1., -1., -1., -1., -1.,\n",
       "       -1., -1., -1., -1., -1., -1., -1., -1., -1., -1., -1., -1., -1.,\n",
       "       -1., -1., -1., -1., -1., -1., -1., -1., -1., -1., -1., -1., -1.,\n",
       "       -1., -1., -1., -1., -1., -1., -1., -1., -1.])"
      ]
     },
     "execution_count": 17,
     "metadata": {},
     "output_type": "execute_result"
    }
   ],
   "source": [
    "labels"
   ]
  },
  {
   "cell_type": "code",
   "execution_count": 18,
   "metadata": {},
   "outputs": [],
   "source": [
    "\n",
    "\n",
    "\n",
    "\n",
    "i = 0\n",
    "def get_id():\n",
    "    # The ID (index) of the next plot to show to the user.\n",
    "    # (TODO: this needs to be more like.. \"whats the next one after ID X?\" or \"whats the next one without a label? \n",
    "    # -- this precludes pre-fetching\n",
    "    global i\n",
    "    i = i + 1\n",
    "    return i\n",
    "\n",
    "\n",
    "\n",
    "def on_new_label(id, label):\n",
    "    # callback invoked when the user labels a plot.\n",
    "    labels[id] = label\n",
    "    print(f\"timeseries {id} has label {label}\")\n",
    "    \n",
    "    \n",
    "    \n",
    "    "
   ]
  },
  {
   "cell_type": "code",
   "execution_count": 19,
   "metadata": {},
   "outputs": [],
   "source": [
    "import json\n",
    "\n",
    "\n",
    "\n",
    "def do_get(handler):\n",
    "    #print(handler.path)\n",
    "    if handler.path == '/':    \n",
    "        # Construct a server response.\n",
    "        handler.send_response(200)\n",
    "        handler.send_header('Content-type', 'text/html')\n",
    "        handler.end_headers()\n",
    "        \n",
    "        f = open(\"active_learning.html\", \"r\")\n",
    "        handler.wfile.write(bytes(\"\\n\".join(f.readlines()), 'utf-8'))   \n",
    "        f.close()\n",
    "\n",
    "    elif handler.path == '/next_data':    \n",
    "        # Construct a server response.\n",
    "        handler.send_response(200)\n",
    "        handler.send_header('Content-type', 'application/json')\n",
    "        handler.end_headers()\n",
    "        # just a dumb increment for now. This breaks REST, GETs need to have no side effects.\n",
    "        # e.g. return next ID on post, then use get to get data only? \n",
    "        time_series_to_get = get_id()\n",
    "        #print(f'getting {time_series_to_get}')\n",
    "        handler.wfile.write(bytes(json.dumps(\n",
    "            {'id': time_series_to_get,\n",
    "             'data':fixed_data[time_series_to_get].tolist()}), \n",
    "                                  'utf-8'))\n",
    "    else:\n",
    "        handler.send_response(404)\n",
    "        handler.send_header('Content-type', 'text/html')\n",
    "        handler.end_headers()\n",
    "        handler.wfile.write(b\"404 not found\")\n",
    "    return"
   ]
  },
  {
   "cell_type": "code",
   "execution_count": 20,
   "metadata": {},
   "outputs": [],
   "source": [
    "\n",
    "\n",
    "def do_post(handler):\n",
    "    #\n",
    "    # should be /label/42\n",
    "    if handler.path == '/label':  \n",
    "        # Construct a server response.\n",
    "        #print(handler.headers)\n",
    "        #print(handler.headers['Content-type'])\n",
    "        \n",
    "        # TODO: security here -- don't read ourselves out of memory...\n",
    "\n",
    "\n",
    "        data = handler.rfile.readline()\n",
    "        #print(data)\n",
    "        data = json.loads(data.decode('utf-8'))\n",
    "        #print(data)\n",
    "        on_new_label(data['id'], data['label'])\n",
    "        \n",
    "        handler.send_response(200)\n",
    "        handler.send_header('Content-type', 'text/html')\n",
    "        handler.end_headers()\n",
    "        handler.wfile.write(b\"OK\")\n",
    "    else:\n",
    "        handler.send_response(404)\n",
    "        handler.send_header('Content-type', 'text/html')\n",
    "        handler.end_headers()\n",
    "        handler.wfile.write(b\"404 not found\")    \n",
    "        print(f'404 - {handler.path}')\n",
    "    return"
   ]
  },
  {
   "cell_type": "code",
   "execution_count": 23,
   "metadata": {},
   "outputs": [
    {
     "name": "stdout",
     "output_type": "stream",
     "text": [
      "[-1.  1.  2.  1.  2. -1. -1. -1. -1. -1. -1. -1. -1. -1. -1. -1. -1. -1.\n",
      " -1. -1. -1. -1. -1. -1. -1. -1. -1. -1. -1. -1. -1. -1. -1. -1. -1. -1.\n",
      " -1. -1. -1. -1. -1. -1. -1. -1. -1. -1. -1. -1. -1. -1. -1. -1. -1. -1.\n",
      " -1. -1. -1. -1. -1. -1. -1. -1. -1. -1. -1. -1. -1. -1. -1. -1. -1. -1.\n",
      " -1. -1. -1. -1. -1. -1. -1. -1. -1. -1. -1. -1. -1. -1. -1. -1. -1. -1.\n",
      " -1. -1. -1. -1. -1. -1. -1. -1. -1. -1.]\n"
     ]
    }
   ],
   "source": [
    "print(labels)"
   ]
  },
  {
   "cell_type": "code",
   "execution_count": 22,
   "metadata": {},
   "outputs": [
    {
     "name": "stdout",
     "output_type": "stream",
     "text": [
      "Server listening on port 8001...\n"
     ]
    },
    {
     "name": "stderr",
     "output_type": "stream",
     "text": [
      "127.0.0.1 - - [31/May/2020 23:33:10] \"GET / HTTP/1.1\" 200 -\n",
      "127.0.0.1 - - [31/May/2020 23:33:10] \"GET /next_data HTTP/1.1\" 200 -\n"
     ]
    },
    {
     "name": "stdout",
     "output_type": "stream",
     "text": [
      "/label\n",
      "foo\n",
      "timeseries 1 has label 1\n"
     ]
    },
    {
     "name": "stderr",
     "output_type": "stream",
     "text": [
      "127.0.0.1 - - [31/May/2020 23:33:13] \"POST /label HTTP/1.1\" 200 -\n",
      "127.0.0.1 - - [31/May/2020 23:33:13] \"GET /next_data HTTP/1.1\" 200 -\n"
     ]
    },
    {
     "name": "stdout",
     "output_type": "stream",
     "text": [
      "/label\n",
      "foo\n",
      "timeseries 2 has label 2\n"
     ]
    },
    {
     "name": "stderr",
     "output_type": "stream",
     "text": [
      "127.0.0.1 - - [31/May/2020 23:33:13] \"POST /label HTTP/1.1\" 200 -\n",
      "127.0.0.1 - - [31/May/2020 23:33:13] \"GET /next_data HTTP/1.1\" 200 -\n"
     ]
    },
    {
     "name": "stdout",
     "output_type": "stream",
     "text": [
      "/label\n",
      "foo\n",
      "timeseries 3 has label 1\n"
     ]
    },
    {
     "name": "stderr",
     "output_type": "stream",
     "text": [
      "127.0.0.1 - - [31/May/2020 23:33:14] \"POST /label HTTP/1.1\" 200 -\n",
      "127.0.0.1 - - [31/May/2020 23:33:14] \"GET /next_data HTTP/1.1\" 200 -\n"
     ]
    },
    {
     "name": "stdout",
     "output_type": "stream",
     "text": [
      "/label\n",
      "foo\n",
      "timeseries 4 has label 2\n"
     ]
    },
    {
     "name": "stderr",
     "output_type": "stream",
     "text": [
      "127.0.0.1 - - [31/May/2020 23:33:14] \"POST /label HTTP/1.1\" 200 -\n",
      "127.0.0.1 - - [31/May/2020 23:33:14] \"GET /next_data HTTP/1.1\" 200 -\n"
     ]
    }
   ],
   "source": [
    "import http.server\n",
    "import socketserver\n",
    "import threading\n",
    "\n",
    "# try:\n",
    "#     httpd.shutdown()\n",
    "#     httpd = None\n",
    "# except NameError:\n",
    "#     print('no existing server...')\n",
    "\n",
    "class Handler(http.server.SimpleHTTPRequestHandler):\n",
    "    def do_GET(self):\n",
    "        eval('do_get')(self)\n",
    "\n",
    "    def do_POST(self):\n",
    "        eval('do_post')(self)\n",
    "\n",
    "    \n",
    "def foo():\n",
    "    global httpd\n",
    "    port = 8001\n",
    "    print(f'Server listening on port {port}...')\n",
    "    httpd = socketserver.TCPServer(('', port), Handler)\n",
    "    httpd.serve_forever()\n",
    "\n",
    "t= threading.Thread(target=foo)\n",
    "t.start()"
   ]
  },
  {
   "cell_type": "code",
   "execution_count": null,
   "metadata": {},
   "outputs": [],
   "source": []
  },
  {
   "cell_type": "code",
   "execution_count": null,
   "metadata": {},
   "outputs": [],
   "source": []
  },
  {
   "cell_type": "code",
   "execution_count": null,
   "metadata": {},
   "outputs": [],
   "source": []
  }
 ],
 "metadata": {
  "kernelspec": {
   "display_name": "Python 3",
   "language": "python",
   "name": "python3"
  },
  "language_info": {
   "codemirror_mode": {
    "name": "ipython",
    "version": 3
   },
   "file_extension": ".py",
   "mimetype": "text/x-python",
   "name": "python",
   "nbconvert_exporter": "python",
   "pygments_lexer": "ipython3",
   "version": "3.7.7"
  }
 },
 "nbformat": 4,
 "nbformat_minor": 4
}
