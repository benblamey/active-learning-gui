{
 "cells": [
  {
   "cell_type": "code",
   "execution_count": 1,
   "metadata": {},
   "outputs": [],
   "source": [
    "# import http.server\n",
    "# import socketserver\n",
    "\n",
    "# PORT = 8002\n",
    "\n",
    "# Handler = http.server.SimpleHTTPRequestHandler\n",
    "\n",
    "# class S(http.server.BaseHTTPRequestHandler):\n",
    "#     def do_GET(self):\n",
    "#         logging.info(\"GET request,\\nPath: %s\\nHeaders:\\n%s\\n\", str(self.path), str(self.headers))\n",
    "#         print('foo')\n",
    "#         self._set_response()\n",
    "#         self.wfile.write(\"GET request for {}\".format(self.path).encode('utf-8'))\n",
    "    \n",
    "\n",
    "# with socketserver.TCPServer((\"\", PORT), S) as httpd:\n",
    "#     print(\"serving at port\", PORT)\n",
    "#     httpd.serve_forever()"
   ]
  },
  {
   "cell_type": "code",
   "execution_count": 2,
   "metadata": {},
   "outputs": [],
   "source": [
    "import http.server\n",
    "import socketserver\n",
    "\n",
    "PORT = 8001\n",
    "\n",
    "Handler = http.server.SimpleHTTPRequestHandler\n",
    "\n",
    "with socketserver.TCPServer((\"\", PORT), Handler) as httpd:\n",
    "    print(\"serving at port\", PORT)\n",
    "    httpd.serve_forever()"
   ]
  },
  {
   "cell_type": "code",
   "execution_count": null,
   "metadata": {},
   "outputs": [],
   "source": [
    "print(f;;)"
   ]
  }
 ],
 "metadata": {
  "kernelspec": {
   "display_name": "Python 3",
   "language": "python",
   "name": "python3"
  },
  "language_info": {
   "codemirror_mode": {
    "name": "ipython",
    "version": 3
   },
   "file_extension": ".py",
   "mimetype": "text/x-python",
   "name": "python",
   "nbconvert_exporter": "python",
   "pygments_lexer": "ipython3",
   "version": "3.7.7"
  }
 },
 "nbformat": 4,
 "nbformat_minor": 2
}
